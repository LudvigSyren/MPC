{
 "cells": [
  {
   "cell_type": "code",
   "execution_count": 2,
   "metadata": {},
   "outputs": [],
   "source": [
    "import cvxpy as cp\n",
    "import numpy as np\n",
    "import scipy as sp\n",
    "import matplotlib.pyplot as plt"
   ]
  },
  {
   "cell_type": "code",
   "execution_count": 3,
   "metadata": {},
   "outputs": [],
   "source": [
    "class FiniteHorizon:\n",
    "\n",
    "    def __init__(self, A, B, C, P, Q, R, N, umax=np.inf, ymax=np.inf, terminal=False):\n",
    "\n",
    "        n, m = B.shape\n",
    "        \n",
    "        # Setting up the optimization variables\n",
    "        self.U = cp.Variable((m, N)) # [ u_0, ..., u_{N-1} ]\n",
    "        self.X = cp.Variable((n, N+1)) # [ x_0, ..., x_N ]\n",
    "        self.x0 = cp.Parameter(n) # Placeholder for the initial state; it is set when calling solve.\n",
    "        \n",
    "        # Setting up the finite-horizon criterion\n",
    "        criterion = cp.quad_form(self.X[:, N], P)\n",
    "        for k in range(N):\n",
    "            criterion += cp.quad_form(self.X[:, k], Q)+cp.quad_form( self.U[:, k], R)\n",
    "\n",
    "        self.criteron = criterion\n",
    "        \n",
    "        # Setting up constraints\n",
    "        constraints = []\n",
    "        constraints.append( self.X[:, 0] == self.x0 ) # x0 == x(0)\n",
    "        constraints.append( self.X[:, 1:N+1] == A@self.X[:, 0:N] + B@self.U ) # x_{k+1} = A x_k + B u_k, k=0, ..., N-1\n",
    "\n",
    "        if (umax < np.inf):\n",
    "            constraints.append( cp.abs(self.U) - umax  <= 0 ) # |u_k| <= umax\n",
    "\n",
    "        if (ymax < np.inf):\n",
    "                constraints.append( cp.abs(C@self.X) -ymax <= 0) \n",
    "\n",
    "        if (terminal):\n",
    "            constraints.append( self.X[:,N] == 0 ) # X_N == 0\n",
    "        \n",
    "        # Minimization problem\n",
    "        self.prob = cp.Problem(cp.Minimize(criterion),constraints)\n",
    "\n",
    "    def solve(self, x0, verbose=False):\n",
    "        self.x0.value = x0.flatten()\n",
    "        self.prob.solve(verbose=verbose, solver = cp.CLARABEL)\n",
    "\n",
    "        return self.U.value, self.X.value"
   ]
  },
  {
   "cell_type": "code",
   "execution_count": 4,
   "metadata": {},
   "outputs": [],
   "source": [
    "class LTI:\n",
    "    def __init__(self, A, B, x0, umax=np.inf):\n",
    "        self.A = A  #A\n",
    "        self.B = B #B\n",
    "        self.n, self.m = B.shape  #n,m. Dimension of B\n",
    "        self.umax = umax #U_max\n",
    "        x0 = x0.reshape(self.n,1)\n",
    "        self.X = x0\n",
    "        self.U = np.empty((self.m,0)) \n",
    "\n",
    "    def step(self, u):\n",
    "        # Imposte consraints on the input\n",
    "        u = u.reshape(self.m,1)\n",
    "        u[u>self.umax] = self.umax #Umax = inf --> infinite Horizon\n",
    "        u[u<-self.umax] = -self.umax #????\n",
    "\n",
    "        # Take one step\n",
    "        x = self.A@self.X[:,[-1]] + self.B@u \n",
    "        self.X = np.append(self.X, x, axis=1)\n",
    "        self.U = np.append(self.U, u, axis=1)\n",
    "        return self.X[:, [-1]]"
   ]
  },
  {
   "cell_type": "markdown",
   "metadata": {},
   "source": [
    "Consider the system\n",
    "$$\n",
    "\\begin{aligned}\n",
    "x(t+1) &= \\begin{bmatrix} 1.5 & 1 \\\\ 0 & 0.5 \\end{bmatrix} + \\begin{bmatrix} 1 \\\\ 0 \\end{bmatrix} u(t) \\\\\n",
    "y(t)&= \\begin{bmatrix} 0.5 & 0.5 \\end{bmatrix} x(t)\n",
    "\\end{aligned}\n",
    "$$\n",
    "(a) Is the system asympototically stable?"
   ]
  },
  {
   "cell_type": "code",
   "execution_count": 5,
   "metadata": {},
   "outputs": [
    {
     "name": "stdout",
     "output_type": "stream",
     "text": [
      "Poles: [1.5 0.5]\n"
     ]
    }
   ],
   "source": [
    "A = np.array([[1.5, 1], [0, 0.5]])\n",
    "B = np.array([ [1], [0]])\n",
    "C = np.array([0.5, 0.5])\n",
    "#x0 = np.array([ [-10], [-10] ])\n",
    "#umax=0.2\n",
    "\n",
    "#Stability of system\n",
    "poles = np.linalg.eig(A)[0]\n",
    "print(\"Poles:\", poles)\n",
    "#System is unstablem, one pole is outside of unit-circle"
   ]
  },
  {
   "cell_type": "markdown",
   "metadata": {},
   "source": [
    "At least on of the poles are larger than 1, and thus the system is not asymptotically stable."
   ]
  },
  {
   "cell_type": "markdown",
   "metadata": {},
   "source": [
    "\n",
    "(b) Find the feedback $$u(t) = -Lx(t)$$ that corresponds to using unconstrained MPC with criterion \n",
    "$$\n",
    "J_{\\infty}(x_0)= \\sum_{k=0}^{\\infty} x_k^T Q x_k + u_k^T R u_k\n",
    "$$\n",
    "\n",
    "with $Q=I$, $R=1$. What is the smallest  N that maked the closed-loop system stable? Find L for $N=2$"
   ]
  },
  {
   "cell_type": "code",
   "execution_count": 80,
   "metadata": {},
   "outputs": [
    {
     "name": "stdout",
     "output_type": "stream",
     "text": [
      "Numerical calculation of L have stabilized at:  16\n",
      "MPC: L0= [[1.08679955 0.91320045]] . Closed-loop poles:  [0.41320045 0.5       ]\n",
      "LQR, L=  [[1.08679955 0.91320045]] Closed-loop poles:  [0.41320045 0.5       ]\n"
     ]
    },
    {
     "data": {
      "text/plain": [
       "<matplotlib.legend.Legend at 0x7fc367a4e870>"
      ]
     },
     "execution_count": 80,
     "metadata": {},
     "output_type": "execute_result"
    },
    {
     "data": {
      "image/png": "[encoded data removed]",
      "text/plain": [
       "<Figure size 640x480 with 1 Axes>"
      ]
     },
     "metadata": {},
     "output_type": "display_data"
    }
   ],
   "source": [
    "Q = np.eye(2)\n",
    "R = np.ones((1,1)) \n",
    "termination_val = 1e-10\n",
    "\n",
    "PN = np.zeros((2,2))\n",
    "#PN = 10*np.eye(2)ls\n",
    "N = 100\n",
    "\n",
    "# Compute P_{N-1}, ..., P_{1}\n",
    "P = PN\n",
    "\n",
    "#L0_last = np.ndarray(shape=(2,1),dtype=float)\n",
    "L0_last = np.array([[0,0]])\n",
    "L_pole1 = [0]\n",
    "L_pole2 = [0]\n",
    "for j in range(N-1):\n",
    "    P = A.T@P@A + Q - A.T@P@B@np.linalg.inv(B.T@P@B + R)@B.T@P@A\n",
    "    L0 = np.linalg.inv(B.T@P@B + R)@B.T@P@A\n",
    "    L_pole1.append(L0[0][0])\n",
    "    L_pole2.append(L0[0][1])\n",
    "    #Check if analytical value of poles have stabilized\n",
    "    if ((np.abs(L0[0][0]-L0_last[0][0]) < termination_val) and ((np.abs(L0[0][1]-L0_last[0][1])) < termination_val)):\n",
    "        print(\"Numerical calculation of L have stabilized at: \", j)\n",
    "        break\n",
    "    L0_last = L0\n",
    "\n",
    "L_plot = np.array(L_pole2)\n",
    "# Infinite horizon feedback\n",
    "Pinf = sp.linalg.solve_discrete_are(A, B, Q, R)\n",
    "L = np.linalg.inv(B.T@Pinf@B + R)@B.T@Pinf@A\n",
    "\n",
    "print(\"MPC: L0=\", L0,\". Closed-loop poles: \", np.linalg.eig(A-B@L0)[0])\n",
    "print(\"LQR, L= \", L, \"Closed-loop poles: \", np.linalg.eig(A-B@L)[0])\n",
    "\n",
    "plt.figure()\n",
    "plt.plot(L_pole1, label=\"Pole1\")\n",
    "plt.plot(L_pole2, label=\"Pole2\")\n",
    "plt.legend()"
   ]
  },
  {
   "cell_type": "markdown",
   "metadata": {},
   "source": [
    "We are numerically finding the penalty (feedback?) $P_j$ which is sufficient to make the system stable. We can see that the numerical solution of $L_0$ stabilizes at iteration $16$, and at that point we get the same pole values as for the analytical solution. "
   ]
  },
  {
   "cell_type": "markdown",
   "metadata": {},
   "source": [
    "(c) Consider \n",
    "$$\n",
    "J_{\\infty} = \\sum_{k=0}^{\\infty} x_k^TQx_k + u_k^TRu_k\n",
    "$$\n",
    "\n",
    "$Q=I$, $R=1$. Use the optimal infinite-horizon feedback $u(t)= -Lx(t)$, anxd $ x(0)=\\begin{bmatrix} 0 \\\\ 1 \\end{bmatrix}$, what is the value of $J_{\\infty}^* (x(0))$? $\\newline$\n",
    "Solve it with:\n"
   ]
  },
  {
   "cell_type": "markdown",
   "metadata": {},
   "source": [
    "1. Optimal cost is given by $J_\\infty(x(0)) = x^T(0)P_{\\infty}x(0)$."
   ]
  },
  {
   "cell_type": "code",
   "execution_count": 74,
   "metadata": {},
   "outputs": [
    {
     "name": "stdout",
     "output_type": "stream",
     "text": [
      "analytical cost:  2.630199322349037\n"
     ]
    }
   ],
   "source": [
    "#Intial values\n",
    "x_0=np.array([0,1])\n",
    "\n",
    "# Infinite horizon feedback\n",
    "Pinf = sp.linalg.solve_discrete_are(A, B, Q, R)\n",
    "L = np.linalg.inv(B.T@Pinf@B + R)@B.T@Pinf@A\n",
    "\n",
    "J = x_0.T@Pinf@x_0\n",
    "print(\"analytical cost: \", J)"
   ]
  },
  {
   "cell_type": "markdown",
   "metadata": {},
   "source": [
    "2. With the optimal finite horizon $L_0$ where the system is stable and $x(t) \\rightarrow 0$. "
   ]
  },
  {
   "cell_type": "code",
   "execution_count": 75,
   "metadata": {},
   "outputs": [
    {
     "name": "stdout",
     "output_type": "stream",
     "text": [
      "Stable at iteration: 18 .With a termination value of: 1e-10\n"
     ]
    },
    {
     "data": {
      "text/plain": [
       "[<matplotlib.lines.Line2D at 0x7fc367e7fe00>]"
      ]
     },
     "execution_count": 75,
     "metadata": {},
     "output_type": "execute_result"
    },
    {
     "data": {
      "image/png": "[encoded data removed]",
      "text/plain": [
       "<Figure size 640x480 with 1 Axes>"
      ]
     },
     "metadata": {},
     "output_type": "display_data"
    }
   ],
   "source": [
    "sys = LTI(A,B,x_0)\n",
    "x = x_0\n",
    "k = 100\n",
    "termination_val = 1e-10\n",
    "j = 0\n",
    "j_last = 0\n",
    "j_plot = []\n",
    "for t in range(k):\n",
    "    u = -L0@x\n",
    "    j_cost=x.T@Q@x + u.T@R@u\n",
    "    #Cast cost to scalar value\n",
    "    j+=j_cost.item()\n",
    "    j_plot.append(j)\n",
    "    if np.abs(j_last-j)<termination_val:\n",
    "        print(\"Stable at iteration:\", t, \".With a termination value of:\", termination_val)\n",
    "        break\n",
    "    j_last = j\n",
    "    x = sys.step(u)\n",
    "\n",
    "j_plot = np.array(j_plot)\n",
    "\n",
    "plt.figure()\n",
    "plt.plot(j_plot)"
   ]
  },
  {
   "cell_type": "markdown",
   "metadata": {},
   "source": [
    "2. \n",
    "Consider \n",
    "$$\n",
    "J_{K} = \\sum x^TQx + u^TRu\n",
    "$$\n",
    "with $K=1,3,50,100,..$\n"
   ]
  },
  {
   "cell_type": "code",
   "execution_count": null,
   "metadata": {},
   "outputs": [],
   "source": [
    "A=2\n",
    "B=1\n",
    "C=0.5\n",
    "\n",
    "x0=0"
   ]
  },
  {
   "cell_type": "code",
   "execution_count": 27,
   "metadata": {},
   "outputs": [
    {
     "name": "stdout",
     "output_type": "stream",
     "text": [
      "MPC: L0= [[1.08679955 0.91320045]] . Closed-loop poles:  [0.41320045 0.5       ]\n",
      "LQR:  L= [[1.08679955 0.91320045]] . Closed-loop poles:  [0.41320045 0.5       ]\n"
     ]
    }
   ],
   "source": [
    "Q = 1\n",
    "R = 1\n",
    "termination_val = 1e-10\n",
    "\n",
    "PN = np.zeros((2,2))\n",
    "#PN = 10*np.eye(2)ls\n",
    "N = 100\n",
    "\n",
    "# Compute P_{N-1}, ..., P_{1}\n",
    "P = PN\n",
    "\n",
    "#L0_last = np.ndarray(shape=(2,1),dtype=float)\n",
    "L0_last = 0\n",
    "L_pole = [0]\n",
    "for j in range(N-1):\n",
    "    P = A**2 * P + Q - A * B * P ** (B**2 * P)\n",
    "    P = A.T@P@A + Q - A.T@P@B@np.linalg.inv(B.T@P@B + R)@B.T@P@A\n",
    "    L0 = np.linalg.inv(B.T@P@B + R)@B.T@P@A\n",
    "    L_pole.append(L0)\n",
    "    #Check if analytical value of poles have stabilized\n",
    "    if ((np.abs(L0[0][0]-L0_last[0][0]) < termination_val) and ((np.abs(L0[0][1]-L0_last[0][1])) < termination_val)):\n",
    "        print(\"Numerical calculation of L have stabilized at: \", j)\n",
    "        break\n",
    "    L0_last = L0\n",
    "\n",
    "L_plot = np.array(L_pole2)\n",
    "# Infinite horizon feedback\n",
    "Pinf = sp.linalg.solve_discrete_are(A, B, Q, R)\n",
    "L = np.linalg.inv(B.T@Pinf@B + R)@B.T@Pinf@A\n",
    "\n",
    "print(\"MPC: L0=\", L0,\". Closed-loop poles: \", np.linalg.eig(A-B@L0)[0])\n",
    "print(\"LQR, L= \", L, \"Closed-loop poles: \", np.linalg.eig(A-B@L)[0])\n",
    "\n",
    "plt.figure()\n",
    "plt.plot(L_pole1, label=\"Pole1\")\n",
    "plt.plot(L_pole2, label=\"Pole2\")\n",
    "plt.legend()"
   ]
  }
 ],
 "metadata": {
  "kernelspec": {
   "display_name": ".venv",
   "language": "python",
   "name": "python3"
  },
  "language_info": {
   "codemirror_mode": {
    "name": "ipython",
    "version": 3
   },
   "file_extension": ".py",
   "mimetype": "text/x-python",
   "name": "python",
   "nbconvert_exporter": "python",
   "pygments_lexer": "ipython3",
   "version": "3.12.3"
  }
 },
 "nbformat": 4,
 "nbformat_minor": 2
}
